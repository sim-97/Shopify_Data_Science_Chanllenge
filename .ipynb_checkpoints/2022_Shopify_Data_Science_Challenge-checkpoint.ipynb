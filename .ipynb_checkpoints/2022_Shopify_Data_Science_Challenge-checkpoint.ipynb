{
 "cells": [
  {
   "cell_type": "markdown",
   "id": "martial-interface",
   "metadata": {},
   "source": [
    "# Winter 2022 Data Science Intern Challenge"
   ]
  },
  {
   "cell_type": "code",
   "execution_count": 2,
   "id": "judicial-language",
   "metadata": {},
   "outputs": [],
   "source": [
    "#Imports\n",
    "import pandas as pd"
   ]
  },
  {
   "cell_type": "markdown",
   "id": "going-mountain",
   "metadata": {},
   "source": [
    "## Question 1\n",
    "\n",
    "*Given 2019 Winter Data Science Intern Challenge Data Set.xlsx data, write a program to answer the following:*\n",
    "\n",
    "On Shopify, we have exactly 100 sneaker shops, and each of these shops sells only one model of shoe. We want to do some analysis of the **average order value (AOV)**. When we look at **orders data over a 30 day window, we naively calculate an AOV of $3145.13**. Given that we know these shops are selling sneakers, a relatively affordable item, something seems wrong with our analysis. \n",
    "\n",
    "\n",
    "* Think about what could be going wrong with our calculation. Think about a better way to evaluate this data.  \n",
    "* What metric would you report for this dataset?\n",
    "* What is its value?"
   ]
  },
  {
   "cell_type": "code",
   "execution_count": 18,
   "id": "crude-virginia",
   "metadata": {},
   "outputs": [],
   "source": [
    "def info(df):\n",
    "  print(\"Number of Rows: \"+str(df.shape[0]))\n",
    "  print(\"\\nNumber of Columns: \"+str(df.shape[1]))\n",
    "  print(\"\\nNames and Data Types of Columns: \\n\")\n",
    "  print(df.dtypes)\n",
    "  print(\"\\nAny Null values: \"+str(df.isnull().values.any()))\n",
    "\n",
    "\n",
    "def read_into_df(fp):\n",
    "  df = pd.read_excel(fp, header=0)\n",
    "  return df\n",
    "\n",
    "\n",
    "sneakers_data_fp = '2019 Winter Data Science Intern Challenge Data Set.xlsx'\n",
    "sneakers_data = read_into_df(sneakers_data_fp)"
   ]
  },
  {
   "cell_type": "code",
   "execution_count": 17,
   "id": "inappropriate-liability",
   "metadata": {},
   "outputs": [
    {
     "name": "stdout",
     "output_type": "stream",
     "text": [
      "Number of Rows: 5000\n",
      "\n",
      "Number of Columns: 7\n",
      "\n",
      "Names and Data Types of Columns: \n",
      "order_id                   int64\n",
      "shop_id                    int64\n",
      "user_id                    int64\n",
      "order_amount               int64\n",
      "total_items                int64\n",
      "payment_method            object\n",
      "created_at        datetime64[ns]\n",
      "dtype: object\n",
      "\n",
      "Any Null values: False\n"
     ]
    }
   ],
   "source": [
    "info(sneakers_data)"
   ]
  },
  {
   "cell_type": "code",
   "execution_count": null,
   "id": "universal-detroit",
   "metadata": {},
   "outputs": [],
   "source": []
  }
 ],
 "metadata": {
  "kernelspec": {
   "display_name": "Python 3",
   "language": "python",
   "name": "python3"
  },
  "language_info": {
   "codemirror_mode": {
    "name": "ipython",
    "version": 3
   },
   "file_extension": ".py",
   "mimetype": "text/x-python",
   "name": "python",
   "nbconvert_exporter": "python",
   "pygments_lexer": "ipython3",
   "version": "3.8.3"
  }
 },
 "nbformat": 4,
 "nbformat_minor": 5
}
