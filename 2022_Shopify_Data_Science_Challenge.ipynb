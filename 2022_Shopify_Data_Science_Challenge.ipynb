{
 "cells": [
  {
   "cell_type": "markdown",
   "id": "conscious-criterion",
   "metadata": {},
   "source": [
    "# Winter 2022 Data Science Intern Challenge"
   ]
  },
  {
   "cell_type": "code",
   "execution_count": 2,
   "id": "stone-aurora",
   "metadata": {},
   "outputs": [],
   "source": [
    "#Imports\n",
    "import pandas as pd"
   ]
  },
  {
   "cell_type": "markdown",
   "id": "three-result",
   "metadata": {},
   "source": [
    "## Question 1\n",
    "\n",
    "*Given 2019 Winter Data Science Intern Challenge Data Set.xlsx data, write a program to answer the following:*\n",
    "\n",
    "On Shopify, we have exactly 100 sneaker shops, and each of these shops sells only one model of shoe. We want to do some analysis of the **average order value (AOV)**. When we look at **orders data over a 30 day window, we naively calculate an AOV of $3145.13**. Given that we know these shops are selling sneakers, a relatively affordable item, something seems wrong with our analysis. "
   ]
  },
  {
   "cell_type": "markdown",
   "id": "executive-corps",
   "metadata": {},
   "source": [
    "### Think about what could be going wrong with our calculation. Think about a better way to evaluate this data.  \n",
    "\n",
    "After glancing at the provided dataset and the provided explanation, I have made note of the following: \n",
    "* Our analysis(the description) implies that the Average Orders Value \\$3145.13 is unreasonable since sneakers are relatively affordable items. However, it is important to note that Average Price of Sneakers(APS) and Average Orders Value(AOV) are not equal, thus Average Orders Value is not a reliable estimator for Average Price of Sneakers. \n",
    "* While APS and AOV are not equal, it is still true that an AOV of \\$3145.13 is a bit too great. This can mean that either one of sneaker pairs are very expensive or costumers are placing very large orders at these stores, thus leading to some outlier data points that are heavily skewing the AOV. If neither of these are the case, there are errors in the data sheet that should be cleared before further processing and analysis.\n",
    "    \n",
    "\n",
    "For better way to analyse this data to begin with would be to examine its distribution. This will tell us if the data is skewed and if we have any outliers. \n",
    "\n",
    "Below, I have written code to provide a brief information size of the dataset, datatypes and checked for any null values. Then I have plotted a boxplot to examine the distribution of Order Amount. (A histogram can also be used to examine distribution of this data.)\n",
    "\n"
   ]
  },
  {
   "cell_type": "code",
   "execution_count": 25,
   "id": "quantitative-qualification",
   "metadata": {},
   "outputs": [
    {
     "name": "stdout",
     "output_type": "stream",
     "text": [
      "Number of Rows: 5000\n",
      "\n",
      "Number of Columns: 7\n",
      "\n",
      "Names and Data Types of Columns: \n",
      "\n",
      "order_id                   int64\n",
      "shop_id                    int64\n",
      "user_id                    int64\n",
      "order_amount               int64\n",
      "total_items                int64\n",
      "payment_method            object\n",
      "created_at        datetime64[ns]\n",
      "dtype: object\n",
      "\n",
      "Any Null values: False\n"
     ]
    }
   ],
   "source": [
    "def info(df):\n",
    "  print(\"Number of Rows: \"+str(df.shape[0]))\n",
    "  print(\"\\nNumber of Columns: \"+str(df.shape[1]))\n",
    "  print(\"\\nNames and Data Types of Columns: \\n\")\n",
    "  print(df.dtypes)\n",
    "  print(\"\\nAny Null values: \"+str(df.isnull().values.any()))\n",
    "\n",
    "\n",
    "def read_into_df(fp):\n",
    "  df = pd.read_excel(fp, header=0)\n",
    "  return df\n",
    "\n",
    "\n",
    "sneakers_data_fp = '2019 Winter Data Science Intern Challenge Data Set.xlsx'\n",
    "sneakers_data = read_into_df(sneakers_data_fp)\n",
    "info(sneakers_data)"
   ]
  },
  {
   "cell_type": "code",
   "execution_count": 19,
   "id": "familiar-ottawa",
   "metadata": {},
   "outputs": [
    {
     "data": {
      "text/plain": [
       "<AxesSubplot:>"
      ]
     },
     "execution_count": 19,
     "metadata": {},
     "output_type": "execute_result"
    },
    {
     "data": {
      "image/png": "[encoded data removed]",
      "text/plain": [
       "<Figure size 432x288 with 1 Axes>"
      ]
     },
     "metadata": {
      "needs_background": "light"
     },
     "output_type": "display_data"
    }
   ],
   "source": [
    "sneakers_data.boxplot(column = 'order_amount') "
   ]
  },
  {
   "cell_type": "code",
   "execution_count": 27,
   "id": "cultural-prior",
   "metadata": {},
   "outputs": [
    {
     "data": {
      "text/html": [
       "<div>\n",
       "<style scoped>\n",
       "    .dataframe tbody tr th:only-of-type {\n",
       "        vertical-align: middle;\n",
       "    }\n",
       "\n",
       "    .dataframe tbody tr th {\n",
       "        vertical-align: top;\n",
       "    }\n",
       "\n",
       "    .dataframe thead th {\n",
       "        text-align: right;\n",
       "    }\n",
       "</style>\n",
       "<table border=\"1\" class=\"dataframe\">\n",
       "  <thead>\n",
       "    <tr style=\"text-align: right;\">\n",
       "      <th></th>\n",
       "      <th>order_id</th>\n",
       "      <th>shop_id</th>\n",
       "      <th>user_id</th>\n",
       "      <th>order_amount</th>\n",
       "      <th>total_items</th>\n",
       "      <th>payment_method</th>\n",
       "      <th>created_at</th>\n",
       "    </tr>\n",
       "  </thead>\n",
       "  <tbody>\n",
       "    <tr>\n",
       "      <th>0</th>\n",
       "      <td>1</td>\n",
       "      <td>53</td>\n",
       "      <td>746</td>\n",
       "      <td>224</td>\n",
       "      <td>2</td>\n",
       "      <td>cash</td>\n",
       "      <td>2017-03-13 12:36:56.190022</td>\n",
       "    </tr>\n",
       "    <tr>\n",
       "      <th>1</th>\n",
       "      <td>2</td>\n",
       "      <td>92</td>\n",
       "      <td>925</td>\n",
       "      <td>90</td>\n",
       "      <td>1</td>\n",
       "      <td>cash</td>\n",
       "      <td>2017-03-03 17:38:51.999116</td>\n",
       "    </tr>\n",
       "    <tr>\n",
       "      <th>2</th>\n",
       "      <td>3</td>\n",
       "      <td>44</td>\n",
       "      <td>861</td>\n",
       "      <td>144</td>\n",
       "      <td>1</td>\n",
       "      <td>cash</td>\n",
       "      <td>2017-03-14 04:23:55.594730</td>\n",
       "    </tr>\n",
       "    <tr>\n",
       "      <th>3</th>\n",
       "      <td>4</td>\n",
       "      <td>18</td>\n",
       "      <td>935</td>\n",
       "      <td>156</td>\n",
       "      <td>1</td>\n",
       "      <td>credit_card</td>\n",
       "      <td>2017-03-26 12:43:36.648760</td>\n",
       "    </tr>\n",
       "    <tr>\n",
       "      <th>4</th>\n",
       "      <td>5</td>\n",
       "      <td>18</td>\n",
       "      <td>883</td>\n",
       "      <td>156</td>\n",
       "      <td>1</td>\n",
       "      <td>credit_card</td>\n",
       "      <td>2017-03-01 04:35:10.772536</td>\n",
       "    </tr>\n",
       "    <tr>\n",
       "      <th>...</th>\n",
       "      <td>...</td>\n",
       "      <td>...</td>\n",
       "      <td>...</td>\n",
       "      <td>...</td>\n",
       "      <td>...</td>\n",
       "      <td>...</td>\n",
       "      <td>...</td>\n",
       "    </tr>\n",
       "    <tr>\n",
       "      <th>4995</th>\n",
       "      <td>4996</td>\n",
       "      <td>73</td>\n",
       "      <td>993</td>\n",
       "      <td>330</td>\n",
       "      <td>2</td>\n",
       "      <td>debit</td>\n",
       "      <td>2017-03-30 13:47:16.596993</td>\n",
       "    </tr>\n",
       "    <tr>\n",
       "      <th>4996</th>\n",
       "      <td>4997</td>\n",
       "      <td>48</td>\n",
       "      <td>789</td>\n",
       "      <td>234</td>\n",
       "      <td>2</td>\n",
       "      <td>cash</td>\n",
       "      <td>2017-03-16 20:36:16.389130</td>\n",
       "    </tr>\n",
       "    <tr>\n",
       "      <th>4997</th>\n",
       "      <td>4998</td>\n",
       "      <td>56</td>\n",
       "      <td>867</td>\n",
       "      <td>351</td>\n",
       "      <td>3</td>\n",
       "      <td>cash</td>\n",
       "      <td>2017-03-19 05:42:42.228042</td>\n",
       "    </tr>\n",
       "    <tr>\n",
       "      <th>4998</th>\n",
       "      <td>4999</td>\n",
       "      <td>60</td>\n",
       "      <td>825</td>\n",
       "      <td>354</td>\n",
       "      <td>2</td>\n",
       "      <td>credit_card</td>\n",
       "      <td>2017-03-16 14:51:18.187847</td>\n",
       "    </tr>\n",
       "    <tr>\n",
       "      <th>4999</th>\n",
       "      <td>5000</td>\n",
       "      <td>44</td>\n",
       "      <td>734</td>\n",
       "      <td>288</td>\n",
       "      <td>2</td>\n",
       "      <td>debit</td>\n",
       "      <td>2017-03-18 15:48:18.205423</td>\n",
       "    </tr>\n",
       "  </tbody>\n",
       "</table>\n",
       "<p>4937 rows × 7 columns</p>\n",
       "</div>"
      ],
      "text/plain": [
       "      order_id  shop_id  user_id  order_amount  total_items payment_method  \\\n",
       "0            1       53      746           224            2           cash   \n",
       "1            2       92      925            90            1           cash   \n",
       "2            3       44      861           144            1           cash   \n",
       "3            4       18      935           156            1    credit_card   \n",
       "4            5       18      883           156            1    credit_card   \n",
       "...        ...      ...      ...           ...          ...            ...   \n",
       "4995      4996       73      993           330            2          debit   \n",
       "4996      4997       48      789           234            2           cash   \n",
       "4997      4998       56      867           351            3           cash   \n",
       "4998      4999       60      825           354            2    credit_card   \n",
       "4999      5000       44      734           288            2          debit   \n",
       "\n",
       "                     created_at  \n",
       "0    2017-03-13 12:36:56.190022  \n",
       "1    2017-03-03 17:38:51.999116  \n",
       "2    2017-03-14 04:23:55.594730  \n",
       "3    2017-03-26 12:43:36.648760  \n",
       "4    2017-03-01 04:35:10.772536  \n",
       "...                         ...  \n",
       "4995 2017-03-30 13:47:16.596993  \n",
       "4996 2017-03-16 20:36:16.389130  \n",
       "4997 2017-03-19 05:42:42.228042  \n",
       "4998 2017-03-16 14:51:18.187847  \n",
       "4999 2017-03-18 15:48:18.205423  \n",
       "\n",
       "[4937 rows x 7 columns]"
      ]
     },
     "execution_count": 27,
     "metadata": {},
     "output_type": "execute_result"
    }
   ],
   "source": [
    "q = sneakers_data['order_amount'].quantile(0.99)\n",
    "sneakers_data[sneakers_data['order_amount'] < q]"
   ]
  },
  {
   "cell_type": "code",
   "execution_count": 29,
   "id": "fantastic-thought",
   "metadata": {},
   "outputs": [
    {
     "data": {
      "text/plain": [
       "<AxesSubplot:>"
      ]
     },
     "execution_count": 29,
     "metadata": {},
     "output_type": "execute_result"
    },
    {
     "data": {
      "image/png": "[encoded data removed]",
      "text/plain": [
       "<Figure size 432x288 with 1 Axes>"
      ]
     },
     "metadata": {
      "needs_background": "light"
     },
     "output_type": "display_data"
    }
   ],
   "source": [
    "sneakers_data_filtered = sneakers_data[sneakers_data['order_amount'] < q]\n",
    "sneakers_data_filtered.boxplot(column = 'order_amount') "
   ]
  },
  {
   "cell_type": "markdown",
   "id": "endless-loading",
   "metadata": {},
   "source": [
    "* What metric would you report for this dataset?\n",
    "* What is its value?"
   ]
  },
  {
   "cell_type": "code",
   "execution_count": null,
   "id": "unnecessary-capture",
   "metadata": {},
   "outputs": [],
   "source": []
  }
 ],
 "metadata": {
  "kernelspec": {
   "display_name": "Python 3",
   "language": "python",
   "name": "python3"
  },
  "language_info": {
   "codemirror_mode": {
    "name": "ipython",
    "version": 3
   },
   "file_extension": ".py",
   "mimetype": "text/x-python",
   "name": "python",
   "nbconvert_exporter": "python",
   "pygments_lexer": "ipython3",
   "version": "3.8.3"
  }
 },
 "nbformat": 4,
 "nbformat_minor": 5
}
